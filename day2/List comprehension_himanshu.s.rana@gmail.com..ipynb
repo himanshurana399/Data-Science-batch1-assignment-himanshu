{
 "cells": [
  {
   "cell_type": "markdown",
   "metadata": {},
   "source": [
    "# List comprehension Day2 Q2"
   ]
  },
  {
   "cell_type": "markdown",
   "metadata": {},
   "source": [
    "A list comprehension is a way to construct a list in Python using a single line of code.  The pattern of creating an empty list, setting up a for loop, and then using several if-then clauses to determine which data should appear in the list can all be done in a single line in Python."
   ]
  },
  {
   "cell_type": "code",
   "execution_count": 11,
   "metadata": {},
   "outputs": [
    {
     "name": "stdout",
     "output_type": "stream",
     "text": [
      "enter list size : 4\n",
      "enter value:11\n",
      "enter value:12\n",
      "enter value:13\n",
      "enter value:14\n",
      "[11, 12, 13, 14]\n"
     ]
    }
   ],
   "source": [
    "list=[]\n",
    "r = int(input(\"enter list size : \"))\n",
    "for i in range(0,r):\n",
    "    print(\"enter value:\",end=\"\")\n",
    "    n=int(input())\n",
    "    list.append(n)\n",
    "print(list)\n"
   ]
  },
  {
   "cell_type": "code",
   "execution_count": 13,
   "metadata": {},
   "outputs": [
    {
     "name": "stdout",
     "output_type": "stream",
     "text": [
      "enter list size : 4\n",
      "enter value:11\n",
      "enter value:12\n",
      "enter value:13\n",
      "enter value:14\n",
      "[11, 12, 13, 14]\n"
     ]
    }
   ],
   "source": [
    "n1=[int(input(\"enter value:\")) for i in range(0,int(input(\"enter list size : \")))]\n",
    "print(n1)"
   ]
  },
  {
   "cell_type": "code",
   "execution_count": null,
   "metadata": {},
   "outputs": [],
   "source": []
  }
 ],
 "metadata": {
  "kernelspec": {
   "display_name": "Python 3",
   "language": "python",
   "name": "python3"
  },
  "language_info": {
   "codemirror_mode": {
    "name": "ipython",
    "version": 3
   },
   "file_extension": ".py",
   "mimetype": "text/x-python",
   "name": "python",
   "nbconvert_exporter": "python",
   "pygments_lexer": "ipython3",
   "version": "3.8.3"
  }
 },
 "nbformat": 4,
 "nbformat_minor": 4
}
