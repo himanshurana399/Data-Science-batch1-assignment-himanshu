{
 "cells": [
  {
   "cell_type": "markdown",
   "metadata": {},
   "source": [
    "# Day2 assignment Himanshu"
   ]
  },
  {
   "cell_type": "code",
   "execution_count": 1,
   "metadata": {
    "scrolled": true
   },
   "outputs": [
    {
     "name": "stdout",
     "output_type": "stream",
     "text": [
      "enter list size : 10\n",
      "enter number 1 :\t10\n",
      "enter number 2 :\t11\n",
      "enter number 3 :\t12\n",
      "enter number 4 :\t13\n",
      "enter number 5 :\t14\n",
      "enter number 6 :\t15\n",
      "enter number 7 :\t16\n",
      "enter number 8 :\t17\n",
      "enter number 9 :\t18\n",
      "enter number 10 :\t19\n",
      "\n",
      "\n",
      "list: [10, 12, 14, 16, 18]\n"
     ]
    }
   ],
   "source": [
    "# Q1\n",
    "\n",
    "list = []\n",
    "r = int(input(\"enter list size : \"))\n",
    "for i in range(0,r):\n",
    "    print(\"enter number\",i+1,\":\",end=\"\\t\")\n",
    "    number=int(input())\n",
    "    if number%2 == 0:\n",
    "        list.append(number)\n",
    "print(\"\\n\")\n",
    "print(\"list:\" ,list)"
   ]
  },
  {
   "cell_type": "code",
   "execution_count": null,
   "metadata": {},
   "outputs": [],
   "source": [
    "# Q2   \n",
    "\n",
    "# list comprehenssion uploaded as another notebook"
   ]
  },
  {
   "cell_type": "code",
   "execution_count": 3,
   "metadata": {},
   "outputs": [
    {
     "name": "stdout",
     "output_type": "stream",
     "text": [
      "8\n",
      "{1: 1, 2: 4, 3: 9, 4: 16, 5: 25, 6: 36, 7: 49, 8: 64}\n"
     ]
    }
   ],
   "source": [
    "# Q3\n",
    "\n",
    "d=dict()\n",
    "n=int(input())\n",
    "for i in range(1,n+1):\n",
    "    d[i]=i*i\n",
    "print(d)"
   ]
  },
  {
   "cell_type": "code",
   "execution_count": 6,
   "metadata": {},
   "outputs": [
    {
     "name": "stdout",
     "output_type": "stream",
     "text": [
      "4\n",
      "UP 5\n",
      "DOWN 3\n",
      "LEFT 3\n",
      "RIGHT 2\n",
      "2\n"
     ]
    }
   ],
   "source": [
    "# Q4\n",
    "\n",
    "c = {\"x\":0,\"y\":0}\n",
    "n = int(input())\n",
    "for m in range (n):\n",
    "    move =  input().split(\" \")\n",
    "    if move[0] == \"UP\":\n",
    "        c[\"y\"] += int(move[1])\n",
    "    if move[0] == \"DOWN\":\n",
    "        c[\"y\"] -= int(move[1])\n",
    "    if move[0] == \"LEFT\":\n",
    "        c[\"x\"] -= int(move[1])\n",
    "    if move[0] == \"RIGHT\":\n",
    "        c[\"x\"] += int(move[1])\n",
    "\n",
    "print(int(round((c[\"x\"]**2 + c[\"y\"]**2)**0.5)))"
   ]
  },
  {
   "cell_type": "code",
   "execution_count": null,
   "metadata": {},
   "outputs": [],
   "source": []
  }
 ],
 "metadata": {
  "kernelspec": {
   "display_name": "Python 3",
   "language": "python",
   "name": "python3"
  },
  "language_info": {
   "codemirror_mode": {
    "name": "ipython",
    "version": 3
   },
   "file_extension": ".py",
   "mimetype": "text/x-python",
   "name": "python",
   "nbconvert_exporter": "python",
   "pygments_lexer": "ipython3",
   "version": "3.8.3"
  }
 },
 "nbformat": 4,
 "nbformat_minor": 4
}
