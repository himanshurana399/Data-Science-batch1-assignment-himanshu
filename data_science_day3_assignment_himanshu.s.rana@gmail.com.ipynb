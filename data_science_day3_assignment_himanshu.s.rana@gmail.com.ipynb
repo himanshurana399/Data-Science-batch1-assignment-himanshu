{
 "cells": [
  {
   "cell_type": "code",
   "execution_count": 2,
   "metadata": {},
   "outputs": [],
   "source": [
    "import numpy as np"
   ]
  },
  {
   "cell_type": "code",
   "execution_count": 3,
   "metadata": {},
   "outputs": [
    {
     "name": "stdout",
     "output_type": "stream",
     "text": [
      "[ 2  5  8 11 14 17 20 23 26 29 32 35 38 41 44 47 50]\n"
     ]
    }
   ],
   "source": [
    "#Q1\n",
    "\n",
    "arr = np.arange(2,51,3)\n",
    "print(arr)"
   ]
  },
  {
   "cell_type": "code",
   "execution_count": 8,
   "metadata": {},
   "outputs": [
    {
     "name": "stdout",
     "output_type": "stream",
     "text": [
      "10 2 8 4 6\n",
      "1 9 3 7 5\n",
      "\n",
      "[10  2  8  4  6  1  9  3  7  5]\n",
      "\n",
      "[ 1  2  3  4  5  6  7  8  9 10]\n"
     ]
    }
   ],
   "source": [
    "#Q2\n",
    "\n",
    "arr1,arr2 = (np.array(list(map(int,input().split()))) for i in range(2))\n",
    "print()\n",
    "print(np.concatenate((arr1,arr2)))\n",
    "print()\n",
    "print(np.sort(np.concatenate((arr1,arr2))))"
   ]
  },
  {
   "cell_type": "code",
   "execution_count": 32,
   "metadata": {},
   "outputs": [
    {
     "name": "stdout",
     "output_type": "stream",
     "text": [
      "2 dimensions\n",
      "size (4, 4)\n"
     ]
    }
   ],
   "source": [
    "#Q3\n",
    "\n",
    "arr = np.arange(2,50,3).reshape(4,4)\n",
    "print(arr.ndim,\"dimensions\")\n",
    "print(\"size\",np.shape(arr))"
   ]
  },
  {
   "cell_type": "code",
   "execution_count": 50,
   "metadata": {},
   "outputs": [
    {
     "name": "stdout",
     "output_type": "stream",
     "text": [
      "[[[ 0]\n",
      "  [ 1]\n",
      "  [ 2]\n",
      "  [ 3]\n",
      "  [ 4]]\n",
      "\n",
      " [[ 5]\n",
      "  [ 6]\n",
      "  [ 7]\n",
      "  [ 8]\n",
      "  [ 9]]\n",
      "\n",
      " [[10]\n",
      "  [11]\n",
      "  [12]\n",
      "  [13]\n",
      "  [14]]]\n",
      "\n",
      "[[[ 0  1  2  3  4]]\n",
      "\n",
      " [[ 5  6  7  8  9]]\n",
      "\n",
      " [[10 11 12 13 14]]]\n"
     ]
    }
   ],
   "source": [
    "#Q4\n",
    "\n",
    "arr = np.arange(15).reshape(3,5)\n",
    "print(arr[:, :, np.newaxis])\n",
    "print()\n",
    "print(np.expand_dims(arr,1))"
   ]
  },
  {
   "cell_type": "code",
   "execution_count": 53,
   "metadata": {},
   "outputs": [
    {
     "name": "stdout",
     "output_type": "stream",
     "text": [
      "[[ 1  2  3]\n",
      " [ 4  5  6]\n",
      " [ 7  8  9]\n",
      " [11 12 13]\n",
      " [14 15 16]\n",
      " [17 18 19]]\n",
      "\n",
      "[[ 1  2  3 11 12 13]\n",
      " [ 4  5  6 14 15 16]\n",
      " [ 7  8  9 17 18 19]]\n"
     ]
    }
   ],
   "source": [
    "#Q5\n",
    "\n",
    "arr3 = np.array([ [1,2,3] , [4,5,6] , [7,8,9] ])\n",
    "arr4 = np.array([ [11,12,13] , [14,15,16] , [17,18,19] ])\n",
    "\n",
    "print(np.vstack((arr3,arr4)))\n",
    "print() \n",
    "print(np.hstack((arr3,arr4)))"
   ]
  },
  {
   "cell_type": "code",
   "execution_count": 57,
   "metadata": {},
   "outputs": [
    {
     "name": "stdout",
     "output_type": "stream",
     "text": [
      "[11 12 13 16 19]\n",
      "5\n"
     ]
    }
   ],
   "source": [
    "#Q6\n",
    "\n",
    "arr4 = np.array([ [11,12,13] , [16,19,11] , [12,13,19] ])\n",
    "arr5=np.unique(arr4)\n",
    "print(arr5)\n",
    "print(arr5.size)"
   ]
  },
  {
   "cell_type": "code",
   "execution_count": null,
   "metadata": {},
   "outputs": [],
   "source": []
  }
 ],
 "metadata": {
  "kernelspec": {
   "display_name": "Python 3",
   "language": "python",
   "name": "python3"
  },
  "language_info": {
   "codemirror_mode": {
    "name": "ipython",
    "version": 3
   },
   "file_extension": ".py",
   "mimetype": "text/x-python",
   "name": "python",
   "nbconvert_exporter": "python",
   "pygments_lexer": "ipython3",
   "version": "3.8.3"
  }
 },
 "nbformat": 4,
 "nbformat_minor": 4
}
